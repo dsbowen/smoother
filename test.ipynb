{
 "cells": [
  {
   "cell_type": "code",
   "execution_count": 1,
   "metadata": {},
   "outputs": [],
   "source": [
    "from smoother import Smoother, MomentConstraint"
   ]
  },
  {
   "cell_type": "code",
   "execution_count": 19,
   "metadata": {},
   "outputs": [],
   "source": [
    "lower_bound, upper_bound = -5, 5\n",
    "mean_const = MomentConstraint(0, degree=1)\n",
    "std_const = MomentConstraint(1, degree=2, type_='central', norm=True)\n",
    "smoother = Smoother().fit(lower_bound, upper_bound, [mean_const, std_const])"
   ]
  },
  {
   "cell_type": "code",
   "execution_count": 20,
   "metadata": {},
   "outputs": [
    {
     "data": {
      "text/plain": [
       "array([1.05244317e-05, 2.40523729e-05, 6.94795493e-05, 1.24277078e-04,\n",
       "       1.92386449e-04, 4.23151924e-04, 8.96719652e-04, 1.80144898e-03,\n",
       "       2.92810143e-03, 5.72561061e-03, 9.40675547e-03, 1.54508773e-02,\n",
       "       2.44734796e-02, 3.69900782e-02, 5.44933012e-02, 7.68991362e-02,\n",
       "       1.05815197e-01, 1.39373625e-01, 1.78871695e-01, 2.19998979e-01,\n",
       "       2.60602935e-01, 2.99391859e-01, 3.33558375e-01, 3.59271039e-01,\n",
       "       3.73104929e-01, 3.73104468e-01, 3.59269207e-01, 3.33553957e-01,\n",
       "       2.99384369e-01, 2.60590988e-01, 2.19983492e-01, 1.78862801e-01,\n",
       "       1.39395486e-01, 1.05881070e-01, 7.69487896e-02, 5.45263340e-02,\n",
       "       3.70900743e-02, 2.42292060e-02, 1.55850522e-02, 9.42680178e-03,\n",
       "       5.52376338e-03, 3.07293242e-03, 1.79044304e-03, 8.89717293e-04,\n",
       "       4.83713490e-04, 2.84380430e-04, 1.23915774e-04, 6.21685673e-05,\n",
       "       2.65027094e-05, 1.23554696e-05])"
      ]
     },
     "execution_count": 20,
     "metadata": {},
     "output_type": "execute_result"
    }
   ],
   "source": [
    "smoother.f_x"
   ]
  },
  {
   "cell_type": "code",
   "execution_count": 21,
   "metadata": {},
   "outputs": [
    {
     "data": {
      "text/plain": [
       "-1.7346938775510203"
      ]
     },
     "execution_count": 21,
     "metadata": {},
     "output_type": "execute_result"
    }
   ],
   "source": [
    "smoother.x[16]"
   ]
  },
  {
   "cell_type": "code",
   "execution_count": 22,
   "metadata": {},
   "outputs": [
    {
     "data": {
      "text/plain": [
       "0.2299093806023274"
      ]
     },
     "execution_count": 22,
     "metadata": {},
     "output_type": "execute_result"
    }
   ],
   "source": [
    "smoother.f_x[:16].sum()"
   ]
  },
  {
   "cell_type": "code",
   "execution_count": 23,
   "metadata": {},
   "outputs": [
    {
     "data": {
      "text/plain": [
       "0.2300761504035341"
      ]
     },
     "execution_count": 23,
     "metadata": {},
     "output_type": "execute_result"
    }
   ],
   "source": [
    "smoother.f_x[-16:].sum()"
   ]
  },
  {
   "cell_type": "code",
   "execution_count": 24,
   "metadata": {},
   "outputs": [
    {
     "data": {
      "text/plain": [
       "0.2543844023985466"
      ]
     },
     "execution_count": 24,
     "metadata": {},
     "output_type": "execute_result"
    }
   ],
   "source": [
    "smoother.cdf(-.67)"
   ]
  },
  {
   "cell_type": "code",
   "execution_count": 25,
   "metadata": {},
   "outputs": [
    {
     "data": {
      "text/plain": [
       "0.25442752065629204"
      ]
     },
     "execution_count": 25,
     "metadata": {},
     "output_type": "execute_result"
    }
   ],
   "source": [
    "1-smoother.cdf(.67)"
   ]
  },
  {
   "cell_type": "code",
   "execution_count": 26,
   "metadata": {},
   "outputs": [
    {
     "data": {
      "text/plain": [
       "0.007410677053806278"
      ]
     },
     "execution_count": 26,
     "metadata": {},
     "output_type": "execute_result"
    }
   ],
   "source": [
    "smoother.F_x[11]"
   ]
  },
  {
   "cell_type": "code",
   "execution_count": 27,
   "metadata": {},
   "outputs": [
    {
     "data": {
      "text/plain": [
       "0.007456349309080346"
      ]
     },
     "execution_count": 27,
     "metadata": {},
     "output_type": "execute_result"
    }
   ],
   "source": [
    "1-smoother.F_x[-13]"
   ]
  },
  {
   "cell_type": "code",
   "execution_count": 28,
   "metadata": {},
   "outputs": [
    {
     "data": {
      "text/plain": [
       "0.4999795564743523"
      ]
     },
     "execution_count": 28,
     "metadata": {},
     "output_type": "execute_result"
    }
   ],
   "source": [
    "smoother.cdf(0)"
   ]
  },
  {
   "cell_type": "code",
   "execution_count": null,
   "metadata": {},
   "outputs": [],
   "source": []
  }
 ],
 "metadata": {
  "kernelspec": {
   "display_name": "smoother",
   "language": "python",
   "name": "smoother"
  },
  "language_info": {
   "codemirror_mode": {
    "name": "ipython",
    "version": 3
   },
   "file_extension": ".py",
   "mimetype": "text/x-python",
   "name": "python",
   "nbconvert_exporter": "python",
   "pygments_lexer": "ipython3",
   "version": "3.6.8"
  }
 },
 "nbformat": 4,
 "nbformat_minor": 4
}
